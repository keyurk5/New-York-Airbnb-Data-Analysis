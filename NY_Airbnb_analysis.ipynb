{
 "cells": [
  {
   "cell_type": "markdown",
   "id": "42efacdb",
   "metadata": {},
   "source": [
    "# New York City Airbnb Data Analysis"
   ]
  },
  {
   "cell_type": "markdown",
   "id": "157b5ab7",
   "metadata": {},
   "source": [
    "Airbnb, Inc. is an American company that operates an online marketplace for lodging, primarily homestays for vacation rentals, and tourism activities. Based in San Francisco, California. \n",
    "\n",
    "Airbnb does not own any of the listed properties; instead, it profits by receiving commission from each booking. \n",
    "Airbnb is a shortened version of its original name, AirBedandBreakfast.com.\n",
    "\n",
    "The company has been criticized for a direct correlation between increases in the number of its listings and increases in nearby rent prices, and creating nuisances for those living near leased properties.\n",
    "\n",
    "The company is regulated by many jurisdictions, including the European Union and cities such as San Francisco and New York City.\n",
    "It is viewed as a competitive threat by the hotel industry.\n",
    "\n",
    "Dataset - [Kaggle](https://www.kaggle.com/dgomonov/new-york-city-airbnb-open-data)"
   ]
  },
  {
   "cell_type": "code",
   "execution_count": 282,
   "id": "e1473129",
   "metadata": {},
   "outputs": [],
   "source": [
    "import pandas as pd\n",
    "import matplotlib.pyplot as plt\n",
    "import seaborn as sns\n",
    "%matplotlib inline\n",
    "\n",
    "import warnings\n",
    "warnings.filterwarnings('ignore')\n",
    "\n",
    "plt.rcParams.update({'font.size': 14})"
   ]
  },
  {
   "cell_type": "code",
   "execution_count": 283,
   "id": "1a85a32d",
   "metadata": {},
   "outputs": [
    {
     "data": {
      "text/html": [
       "<div>\n",
       "<style scoped>\n",
       "    .dataframe tbody tr th:only-of-type {\n",
       "        vertical-align: middle;\n",
       "    }\n",
       "\n",
       "    .dataframe tbody tr th {\n",
       "        vertical-align: top;\n",
       "    }\n",
       "\n",
       "    .dataframe thead th {\n",
       "        text-align: right;\n",
       "    }\n",
       "</style>\n",
       "<table border=\"1\" class=\"dataframe\">\n",
       "  <thead>\n",
       "    <tr style=\"text-align: right;\">\n",
       "      <th></th>\n",
       "      <th>id</th>\n",
       "      <th>name</th>\n",
       "      <th>host_id</th>\n",
       "      <th>host_name</th>\n",
       "      <th>neighbourhood_group</th>\n",
       "      <th>neighbourhood</th>\n",
       "      <th>latitude</th>\n",
       "      <th>longitude</th>\n",
       "      <th>room_type</th>\n",
       "      <th>price</th>\n",
       "      <th>minimum_nights</th>\n",
       "      <th>number_of_reviews</th>\n",
       "      <th>last_review</th>\n",
       "      <th>reviews_per_month</th>\n",
       "      <th>calculated_host_listings_count</th>\n",
       "      <th>availability_365</th>\n",
       "    </tr>\n",
       "  </thead>\n",
       "  <tbody>\n",
       "    <tr>\n",
       "      <th>0</th>\n",
       "      <td>2539</td>\n",
       "      <td>Clean &amp; quiet apt home by the park</td>\n",
       "      <td>2787</td>\n",
       "      <td>John</td>\n",
       "      <td>Brooklyn</td>\n",
       "      <td>Kensington</td>\n",
       "      <td>40.64749</td>\n",
       "      <td>-73.97237</td>\n",
       "      <td>Private room</td>\n",
       "      <td>149</td>\n",
       "      <td>1</td>\n",
       "      <td>9</td>\n",
       "      <td>2018-10-19</td>\n",
       "      <td>0.21</td>\n",
       "      <td>6</td>\n",
       "      <td>365</td>\n",
       "    </tr>\n",
       "    <tr>\n",
       "      <th>1</th>\n",
       "      <td>2595</td>\n",
       "      <td>Skylit Midtown Castle</td>\n",
       "      <td>2845</td>\n",
       "      <td>Jennifer</td>\n",
       "      <td>Manhattan</td>\n",
       "      <td>Midtown</td>\n",
       "      <td>40.75362</td>\n",
       "      <td>-73.98377</td>\n",
       "      <td>Entire home/apt</td>\n",
       "      <td>225</td>\n",
       "      <td>1</td>\n",
       "      <td>45</td>\n",
       "      <td>2019-05-21</td>\n",
       "      <td>0.38</td>\n",
       "      <td>2</td>\n",
       "      <td>355</td>\n",
       "    </tr>\n",
       "    <tr>\n",
       "      <th>2</th>\n",
       "      <td>3647</td>\n",
       "      <td>THE VILLAGE OF HARLEM....NEW YORK !</td>\n",
       "      <td>4632</td>\n",
       "      <td>Elisabeth</td>\n",
       "      <td>Manhattan</td>\n",
       "      <td>Harlem</td>\n",
       "      <td>40.80902</td>\n",
       "      <td>-73.94190</td>\n",
       "      <td>Private room</td>\n",
       "      <td>150</td>\n",
       "      <td>3</td>\n",
       "      <td>0</td>\n",
       "      <td>NaN</td>\n",
       "      <td>NaN</td>\n",
       "      <td>1</td>\n",
       "      <td>365</td>\n",
       "    </tr>\n",
       "    <tr>\n",
       "      <th>3</th>\n",
       "      <td>3831</td>\n",
       "      <td>Cozy Entire Floor of Brownstone</td>\n",
       "      <td>4869</td>\n",
       "      <td>LisaRoxanne</td>\n",
       "      <td>Brooklyn</td>\n",
       "      <td>Clinton Hill</td>\n",
       "      <td>40.68514</td>\n",
       "      <td>-73.95976</td>\n",
       "      <td>Entire home/apt</td>\n",
       "      <td>89</td>\n",
       "      <td>1</td>\n",
       "      <td>270</td>\n",
       "      <td>2019-07-05</td>\n",
       "      <td>4.64</td>\n",
       "      <td>1</td>\n",
       "      <td>194</td>\n",
       "    </tr>\n",
       "    <tr>\n",
       "      <th>4</th>\n",
       "      <td>5022</td>\n",
       "      <td>Entire Apt: Spacious Studio/Loft by central park</td>\n",
       "      <td>7192</td>\n",
       "      <td>Laura</td>\n",
       "      <td>Manhattan</td>\n",
       "      <td>East Harlem</td>\n",
       "      <td>40.79851</td>\n",
       "      <td>-73.94399</td>\n",
       "      <td>Entire home/apt</td>\n",
       "      <td>80</td>\n",
       "      <td>10</td>\n",
       "      <td>9</td>\n",
       "      <td>2018-11-19</td>\n",
       "      <td>0.10</td>\n",
       "      <td>1</td>\n",
       "      <td>0</td>\n",
       "    </tr>\n",
       "  </tbody>\n",
       "</table>\n",
       "</div>"
      ],
      "text/plain": [
       "     id                                              name  host_id  \\\n",
       "0  2539                Clean & quiet apt home by the park     2787   \n",
       "1  2595                             Skylit Midtown Castle     2845   \n",
       "2  3647               THE VILLAGE OF HARLEM....NEW YORK !     4632   \n",
       "3  3831                   Cozy Entire Floor of Brownstone     4869   \n",
       "4  5022  Entire Apt: Spacious Studio/Loft by central park     7192   \n",
       "\n",
       "     host_name neighbourhood_group neighbourhood  latitude  longitude  \\\n",
       "0         John            Brooklyn    Kensington  40.64749  -73.97237   \n",
       "1     Jennifer           Manhattan       Midtown  40.75362  -73.98377   \n",
       "2    Elisabeth           Manhattan        Harlem  40.80902  -73.94190   \n",
       "3  LisaRoxanne            Brooklyn  Clinton Hill  40.68514  -73.95976   \n",
       "4        Laura           Manhattan   East Harlem  40.79851  -73.94399   \n",
       "\n",
       "         room_type  price  minimum_nights  number_of_reviews last_review  \\\n",
       "0     Private room    149               1                  9  2018-10-19   \n",
       "1  Entire home/apt    225               1                 45  2019-05-21   \n",
       "2     Private room    150               3                  0         NaN   \n",
       "3  Entire home/apt     89               1                270  2019-07-05   \n",
       "4  Entire home/apt     80              10                  9  2018-11-19   \n",
       "\n",
       "   reviews_per_month  calculated_host_listings_count  availability_365  \n",
       "0               0.21                               6               365  \n",
       "1               0.38                               2               355  \n",
       "2                NaN                               1               365  \n",
       "3               4.64                               1               194  \n",
       "4               0.10                               1                 0  "
      ]
     },
     "execution_count": 283,
     "metadata": {},
     "output_type": "execute_result"
    }
   ],
   "source": [
    "airbnb_df = pd.read_csv('~/Downloads/AB_NYC_2019.csv')\n",
    "\n",
    "airbnb = airbnb_df.copy()\n",
    "airbnb.head()"
   ]
  },
  {
   "cell_type": "code",
   "execution_count": 284,
   "id": "813f6807",
   "metadata": {},
   "outputs": [
    {
     "data": {
      "text/plain": [
       "(48895, 16)"
      ]
     },
     "execution_count": 284,
     "metadata": {},
     "output_type": "execute_result"
    }
   ],
   "source": [
    "airbnb.shape"
   ]
  },
  {
   "cell_type": "code",
   "execution_count": 285,
   "id": "d4b82772",
   "metadata": {
    "scrolled": false
   },
   "outputs": [
    {
     "name": "stdout",
     "output_type": "stream",
     "text": [
      "<class 'pandas.core.frame.DataFrame'>\n",
      "RangeIndex: 48895 entries, 0 to 48894\n",
      "Data columns (total 16 columns):\n",
      " #   Column                          Non-Null Count  Dtype  \n",
      "---  ------                          --------------  -----  \n",
      " 0   id                              48895 non-null  int64  \n",
      " 1   name                            48879 non-null  object \n",
      " 2   host_id                         48895 non-null  int64  \n",
      " 3   host_name                       48874 non-null  object \n",
      " 4   neighbourhood_group             48895 non-null  object \n",
      " 5   neighbourhood                   48895 non-null  object \n",
      " 6   latitude                        48895 non-null  float64\n",
      " 7   longitude                       48895 non-null  float64\n",
      " 8   room_type                       48895 non-null  object \n",
      " 9   price                           48895 non-null  int64  \n",
      " 10  minimum_nights                  48895 non-null  int64  \n",
      " 11  number_of_reviews               48895 non-null  int64  \n",
      " 12  last_review                     38843 non-null  object \n",
      " 13  reviews_per_month               38843 non-null  float64\n",
      " 14  calculated_host_listings_count  48895 non-null  int64  \n",
      " 15  availability_365                48895 non-null  int64  \n",
      "dtypes: float64(3), int64(7), object(6)\n",
      "memory usage: 6.0+ MB\n"
     ]
    }
   ],
   "source": [
    "airbnb.info()"
   ]
  },
  {
   "cell_type": "code",
   "execution_count": 286,
   "id": "c6cbfcdf",
   "metadata": {},
   "outputs": [
    {
     "data": {
      "text/html": [
       "<div>\n",
       "<style scoped>\n",
       "    .dataframe tbody tr th:only-of-type {\n",
       "        vertical-align: middle;\n",
       "    }\n",
       "\n",
       "    .dataframe tbody tr th {\n",
       "        vertical-align: top;\n",
       "    }\n",
       "\n",
       "    .dataframe thead th {\n",
       "        text-align: right;\n",
       "    }\n",
       "</style>\n",
       "<table border=\"1\" class=\"dataframe\">\n",
       "  <thead>\n",
       "    <tr style=\"text-align: right;\">\n",
       "      <th></th>\n",
       "      <th>id</th>\n",
       "      <th>host_id</th>\n",
       "      <th>latitude</th>\n",
       "      <th>longitude</th>\n",
       "      <th>price</th>\n",
       "      <th>minimum_nights</th>\n",
       "      <th>number_of_reviews</th>\n",
       "      <th>reviews_per_month</th>\n",
       "      <th>calculated_host_listings_count</th>\n",
       "      <th>availability_365</th>\n",
       "    </tr>\n",
       "  </thead>\n",
       "  <tbody>\n",
       "    <tr>\n",
       "      <th>count</th>\n",
       "      <td>4.889500e+04</td>\n",
       "      <td>4.889500e+04</td>\n",
       "      <td>48895.000000</td>\n",
       "      <td>48895.000000</td>\n",
       "      <td>48895.000000</td>\n",
       "      <td>48895.000000</td>\n",
       "      <td>48895.000000</td>\n",
       "      <td>38843.000000</td>\n",
       "      <td>48895.000000</td>\n",
       "      <td>48895.000000</td>\n",
       "    </tr>\n",
       "    <tr>\n",
       "      <th>mean</th>\n",
       "      <td>1.901714e+07</td>\n",
       "      <td>6.762001e+07</td>\n",
       "      <td>40.728949</td>\n",
       "      <td>-73.952170</td>\n",
       "      <td>152.720687</td>\n",
       "      <td>7.029962</td>\n",
       "      <td>23.274466</td>\n",
       "      <td>1.373221</td>\n",
       "      <td>7.143982</td>\n",
       "      <td>112.781327</td>\n",
       "    </tr>\n",
       "    <tr>\n",
       "      <th>std</th>\n",
       "      <td>1.098311e+07</td>\n",
       "      <td>7.861097e+07</td>\n",
       "      <td>0.054530</td>\n",
       "      <td>0.046157</td>\n",
       "      <td>240.154170</td>\n",
       "      <td>20.510550</td>\n",
       "      <td>44.550582</td>\n",
       "      <td>1.680442</td>\n",
       "      <td>32.952519</td>\n",
       "      <td>131.622289</td>\n",
       "    </tr>\n",
       "    <tr>\n",
       "      <th>min</th>\n",
       "      <td>2.539000e+03</td>\n",
       "      <td>2.438000e+03</td>\n",
       "      <td>40.499790</td>\n",
       "      <td>-74.244420</td>\n",
       "      <td>0.000000</td>\n",
       "      <td>1.000000</td>\n",
       "      <td>0.000000</td>\n",
       "      <td>0.010000</td>\n",
       "      <td>1.000000</td>\n",
       "      <td>0.000000</td>\n",
       "    </tr>\n",
       "    <tr>\n",
       "      <th>25%</th>\n",
       "      <td>9.471945e+06</td>\n",
       "      <td>7.822033e+06</td>\n",
       "      <td>40.690100</td>\n",
       "      <td>-73.983070</td>\n",
       "      <td>69.000000</td>\n",
       "      <td>1.000000</td>\n",
       "      <td>1.000000</td>\n",
       "      <td>0.190000</td>\n",
       "      <td>1.000000</td>\n",
       "      <td>0.000000</td>\n",
       "    </tr>\n",
       "    <tr>\n",
       "      <th>50%</th>\n",
       "      <td>1.967728e+07</td>\n",
       "      <td>3.079382e+07</td>\n",
       "      <td>40.723070</td>\n",
       "      <td>-73.955680</td>\n",
       "      <td>106.000000</td>\n",
       "      <td>3.000000</td>\n",
       "      <td>5.000000</td>\n",
       "      <td>0.720000</td>\n",
       "      <td>1.000000</td>\n",
       "      <td>45.000000</td>\n",
       "    </tr>\n",
       "    <tr>\n",
       "      <th>75%</th>\n",
       "      <td>2.915218e+07</td>\n",
       "      <td>1.074344e+08</td>\n",
       "      <td>40.763115</td>\n",
       "      <td>-73.936275</td>\n",
       "      <td>175.000000</td>\n",
       "      <td>5.000000</td>\n",
       "      <td>24.000000</td>\n",
       "      <td>2.020000</td>\n",
       "      <td>2.000000</td>\n",
       "      <td>227.000000</td>\n",
       "    </tr>\n",
       "    <tr>\n",
       "      <th>max</th>\n",
       "      <td>3.648724e+07</td>\n",
       "      <td>2.743213e+08</td>\n",
       "      <td>40.913060</td>\n",
       "      <td>-73.712990</td>\n",
       "      <td>10000.000000</td>\n",
       "      <td>1250.000000</td>\n",
       "      <td>629.000000</td>\n",
       "      <td>58.500000</td>\n",
       "      <td>327.000000</td>\n",
       "      <td>365.000000</td>\n",
       "    </tr>\n",
       "  </tbody>\n",
       "</table>\n",
       "</div>"
      ],
      "text/plain": [
       "                 id       host_id      latitude     longitude         price  \\\n",
       "count  4.889500e+04  4.889500e+04  48895.000000  48895.000000  48895.000000   \n",
       "mean   1.901714e+07  6.762001e+07     40.728949    -73.952170    152.720687   \n",
       "std    1.098311e+07  7.861097e+07      0.054530      0.046157    240.154170   \n",
       "min    2.539000e+03  2.438000e+03     40.499790    -74.244420      0.000000   \n",
       "25%    9.471945e+06  7.822033e+06     40.690100    -73.983070     69.000000   \n",
       "50%    1.967728e+07  3.079382e+07     40.723070    -73.955680    106.000000   \n",
       "75%    2.915218e+07  1.074344e+08     40.763115    -73.936275    175.000000   \n",
       "max    3.648724e+07  2.743213e+08     40.913060    -73.712990  10000.000000   \n",
       "\n",
       "       minimum_nights  number_of_reviews  reviews_per_month  \\\n",
       "count    48895.000000       48895.000000       38843.000000   \n",
       "mean         7.029962          23.274466           1.373221   \n",
       "std         20.510550          44.550582           1.680442   \n",
       "min          1.000000           0.000000           0.010000   \n",
       "25%          1.000000           1.000000           0.190000   \n",
       "50%          3.000000           5.000000           0.720000   \n",
       "75%          5.000000          24.000000           2.020000   \n",
       "max       1250.000000         629.000000          58.500000   \n",
       "\n",
       "       calculated_host_listings_count  availability_365  \n",
       "count                    48895.000000      48895.000000  \n",
       "mean                         7.143982        112.781327  \n",
       "std                         32.952519        131.622289  \n",
       "min                          1.000000          0.000000  \n",
       "25%                          1.000000          0.000000  \n",
       "50%                          1.000000         45.000000  \n",
       "75%                          2.000000        227.000000  \n",
       "max                        327.000000        365.000000  "
      ]
     },
     "execution_count": 286,
     "metadata": {},
     "output_type": "execute_result"
    }
   ],
   "source": [
    "airbnb.describe()"
   ]
  },
  {
   "cell_type": "markdown",
   "id": "a396b4c2",
   "metadata": {},
   "source": [
    "- **Min price is 0 which is weird.**\n",
    "- **minimum_nights max value is 1250.**"
   ]
  },
  {
   "cell_type": "code",
   "execution_count": 287,
   "id": "532dee39",
   "metadata": {},
   "outputs": [
    {
     "data": {
      "text/plain": [
       "id                                    0\n",
       "name                                 16\n",
       "host_id                               0\n",
       "host_name                            21\n",
       "neighbourhood_group                   0\n",
       "neighbourhood                         0\n",
       "latitude                              0\n",
       "longitude                             0\n",
       "room_type                             0\n",
       "price                                 0\n",
       "minimum_nights                        0\n",
       "number_of_reviews                     0\n",
       "last_review                       10052\n",
       "reviews_per_month                 10052\n",
       "calculated_host_listings_count        0\n",
       "availability_365                      0\n",
       "dtype: int64"
      ]
     },
     "execution_count": 287,
     "metadata": {},
     "output_type": "execute_result"
    }
   ],
   "source": [
    "airbnb.isnull().sum()"
   ]
  },
  {
   "cell_type": "markdown",
   "id": "5c1ecc02",
   "metadata": {},
   "source": [
    "We can drop columns such as name, host_name, last_view as we wont be using those in our analysis.\n",
    "\n",
    "We will use host_id to uniquely identify the hosts"
   ]
  },
  {
   "cell_type": "code",
   "execution_count": 288,
   "id": "62225a9e",
   "metadata": {},
   "outputs": [],
   "source": [
    "airbnb.drop(['name','host_name','last_review'],axis=1,inplace=True)"
   ]
  },
  {
   "cell_type": "markdown",
   "id": "71745014",
   "metadata": {},
   "source": [
    "we can set reviews_per_month to 0 for NA , if there are no reviews."
   ]
  },
  {
   "cell_type": "code",
   "execution_count": 289,
   "id": "042eca59",
   "metadata": {},
   "outputs": [],
   "source": [
    "airbnb['reviews_per_month'].fillna(0,inplace=True)"
   ]
  },
  {
   "cell_type": "code",
   "execution_count": 290,
   "id": "4ca34339",
   "metadata": {},
   "outputs": [
    {
     "data": {
      "text/plain": [
       "id                                0\n",
       "host_id                           0\n",
       "neighbourhood_group               0\n",
       "neighbourhood                     0\n",
       "latitude                          0\n",
       "longitude                         0\n",
       "room_type                         0\n",
       "price                             0\n",
       "minimum_nights                    0\n",
       "number_of_reviews                 0\n",
       "reviews_per_month                 0\n",
       "calculated_host_listings_count    0\n",
       "availability_365                  0\n",
       "dtype: int64"
      ]
     },
     "execution_count": 290,
     "metadata": {},
     "output_type": "execute_result"
    }
   ],
   "source": [
    "airbnb.isnull().sum()"
   ]
  },
  {
   "cell_type": "markdown",
   "id": "22b8da3c",
   "metadata": {},
   "source": [
    "Now lets drop rows having minimum_nights more than 365 days"
   ]
  },
  {
   "cell_type": "code",
   "execution_count": 291,
   "id": "ecacfd86",
   "metadata": {},
   "outputs": [],
   "source": [
    "airbnb.drop(airbnb[airbnb['minimum_nights'] > 365].index,inplace=True)"
   ]
  },
  {
   "cell_type": "markdown",
   "id": "59a28694",
   "metadata": {},
   "source": [
    "Data cleaning is done. Lets look at sample data and move further with data analysis"
   ]
  },
  {
   "cell_type": "code",
   "execution_count": 292,
   "id": "3ef00f03",
   "metadata": {},
   "outputs": [
    {
     "data": {
      "text/html": [
       "<div>\n",
       "<style scoped>\n",
       "    .dataframe tbody tr th:only-of-type {\n",
       "        vertical-align: middle;\n",
       "    }\n",
       "\n",
       "    .dataframe tbody tr th {\n",
       "        vertical-align: top;\n",
       "    }\n",
       "\n",
       "    .dataframe thead th {\n",
       "        text-align: right;\n",
       "    }\n",
       "</style>\n",
       "<table border=\"1\" class=\"dataframe\">\n",
       "  <thead>\n",
       "    <tr style=\"text-align: right;\">\n",
       "      <th></th>\n",
       "      <th>id</th>\n",
       "      <th>host_id</th>\n",
       "      <th>neighbourhood_group</th>\n",
       "      <th>neighbourhood</th>\n",
       "      <th>latitude</th>\n",
       "      <th>longitude</th>\n",
       "      <th>room_type</th>\n",
       "      <th>price</th>\n",
       "      <th>minimum_nights</th>\n",
       "      <th>number_of_reviews</th>\n",
       "      <th>reviews_per_month</th>\n",
       "      <th>calculated_host_listings_count</th>\n",
       "      <th>availability_365</th>\n",
       "    </tr>\n",
       "  </thead>\n",
       "  <tbody>\n",
       "    <tr>\n",
       "      <th>12095</th>\n",
       "      <td>9396442</td>\n",
       "      <td>26347594</td>\n",
       "      <td>Manhattan</td>\n",
       "      <td>Upper West Side</td>\n",
       "      <td>40.77772</td>\n",
       "      <td>-73.98514</td>\n",
       "      <td>Private room</td>\n",
       "      <td>108</td>\n",
       "      <td>1</td>\n",
       "      <td>11</td>\n",
       "      <td>0.25</td>\n",
       "      <td>1</td>\n",
       "      <td>0</td>\n",
       "    </tr>\n",
       "    <tr>\n",
       "      <th>9259</th>\n",
       "      <td>7074504</td>\n",
       "      <td>37091023</td>\n",
       "      <td>Brooklyn</td>\n",
       "      <td>Park Slope</td>\n",
       "      <td>40.67102</td>\n",
       "      <td>-73.98080</td>\n",
       "      <td>Private room</td>\n",
       "      <td>100</td>\n",
       "      <td>1</td>\n",
       "      <td>1</td>\n",
       "      <td>0.02</td>\n",
       "      <td>1</td>\n",
       "      <td>0</td>\n",
       "    </tr>\n",
       "    <tr>\n",
       "      <th>5733</th>\n",
       "      <td>4174286</td>\n",
       "      <td>21660125</td>\n",
       "      <td>Brooklyn</td>\n",
       "      <td>Bushwick</td>\n",
       "      <td>40.69358</td>\n",
       "      <td>-73.91914</td>\n",
       "      <td>Private room</td>\n",
       "      <td>35</td>\n",
       "      <td>15</td>\n",
       "      <td>1</td>\n",
       "      <td>0.03</td>\n",
       "      <td>1</td>\n",
       "      <td>0</td>\n",
       "    </tr>\n",
       "    <tr>\n",
       "      <th>13540</th>\n",
       "      <td>10130925</td>\n",
       "      <td>51991283</td>\n",
       "      <td>Manhattan</td>\n",
       "      <td>Harlem</td>\n",
       "      <td>40.80057</td>\n",
       "      <td>-73.95468</td>\n",
       "      <td>Private room</td>\n",
       "      <td>179</td>\n",
       "      <td>1</td>\n",
       "      <td>2</td>\n",
       "      <td>0.05</td>\n",
       "      <td>5</td>\n",
       "      <td>309</td>\n",
       "    </tr>\n",
       "    <tr>\n",
       "      <th>11745</th>\n",
       "      <td>9132807</td>\n",
       "      <td>30283594</td>\n",
       "      <td>Manhattan</td>\n",
       "      <td>Midtown</td>\n",
       "      <td>40.75242</td>\n",
       "      <td>-73.97187</td>\n",
       "      <td>Entire home/apt</td>\n",
       "      <td>139</td>\n",
       "      <td>30</td>\n",
       "      <td>0</td>\n",
       "      <td>0.00</td>\n",
       "      <td>121</td>\n",
       "      <td>360</td>\n",
       "    </tr>\n",
       "    <tr>\n",
       "      <th>16897</th>\n",
       "      <td>13452474</td>\n",
       "      <td>16809858</td>\n",
       "      <td>Manhattan</td>\n",
       "      <td>Hell's Kitchen</td>\n",
       "      <td>40.76733</td>\n",
       "      <td>-73.98607</td>\n",
       "      <td>Entire home/apt</td>\n",
       "      <td>169</td>\n",
       "      <td>10</td>\n",
       "      <td>6</td>\n",
       "      <td>0.17</td>\n",
       "      <td>1</td>\n",
       "      <td>280</td>\n",
       "    </tr>\n",
       "    <tr>\n",
       "      <th>34660</th>\n",
       "      <td>27492304</td>\n",
       "      <td>207117606</td>\n",
       "      <td>Brooklyn</td>\n",
       "      <td>Windsor Terrace</td>\n",
       "      <td>40.65668</td>\n",
       "      <td>-73.97827</td>\n",
       "      <td>Private room</td>\n",
       "      <td>75</td>\n",
       "      <td>4</td>\n",
       "      <td>1</td>\n",
       "      <td>0.13</td>\n",
       "      <td>1</td>\n",
       "      <td>82</td>\n",
       "    </tr>\n",
       "    <tr>\n",
       "      <th>44706</th>\n",
       "      <td>34368774</td>\n",
       "      <td>42916011</td>\n",
       "      <td>Queens</td>\n",
       "      <td>Sunnyside</td>\n",
       "      <td>40.74368</td>\n",
       "      <td>-73.92421</td>\n",
       "      <td>Private room</td>\n",
       "      <td>88</td>\n",
       "      <td>8</td>\n",
       "      <td>0</td>\n",
       "      <td>0.00</td>\n",
       "      <td>2</td>\n",
       "      <td>363</td>\n",
       "    </tr>\n",
       "    <tr>\n",
       "      <th>13761</th>\n",
       "      <td>10356093</td>\n",
       "      <td>2321360</td>\n",
       "      <td>Brooklyn</td>\n",
       "      <td>Bedford-Stuyvesant</td>\n",
       "      <td>40.68580</td>\n",
       "      <td>-73.93465</td>\n",
       "      <td>Entire home/apt</td>\n",
       "      <td>120</td>\n",
       "      <td>2</td>\n",
       "      <td>0</td>\n",
       "      <td>0.00</td>\n",
       "      <td>1</td>\n",
       "      <td>0</td>\n",
       "    </tr>\n",
       "    <tr>\n",
       "      <th>3637</th>\n",
       "      <td>2186452</td>\n",
       "      <td>10636508</td>\n",
       "      <td>Manhattan</td>\n",
       "      <td>Tribeca</td>\n",
       "      <td>40.71725</td>\n",
       "      <td>-74.00528</td>\n",
       "      <td>Entire home/apt</td>\n",
       "      <td>1500</td>\n",
       "      <td>1</td>\n",
       "      <td>0</td>\n",
       "      <td>0.00</td>\n",
       "      <td>1</td>\n",
       "      <td>0</td>\n",
       "    </tr>\n",
       "  </tbody>\n",
       "</table>\n",
       "</div>"
      ],
      "text/plain": [
       "             id    host_id neighbourhood_group       neighbourhood  latitude  \\\n",
       "12095   9396442   26347594           Manhattan     Upper West Side  40.77772   \n",
       "9259    7074504   37091023            Brooklyn          Park Slope  40.67102   \n",
       "5733    4174286   21660125            Brooklyn            Bushwick  40.69358   \n",
       "13540  10130925   51991283           Manhattan              Harlem  40.80057   \n",
       "11745   9132807   30283594           Manhattan             Midtown  40.75242   \n",
       "16897  13452474   16809858           Manhattan      Hell's Kitchen  40.76733   \n",
       "34660  27492304  207117606            Brooklyn     Windsor Terrace  40.65668   \n",
       "44706  34368774   42916011              Queens           Sunnyside  40.74368   \n",
       "13761  10356093    2321360            Brooklyn  Bedford-Stuyvesant  40.68580   \n",
       "3637    2186452   10636508           Manhattan             Tribeca  40.71725   \n",
       "\n",
       "       longitude        room_type  price  minimum_nights  number_of_reviews  \\\n",
       "12095  -73.98514     Private room    108               1                 11   \n",
       "9259   -73.98080     Private room    100               1                  1   \n",
       "5733   -73.91914     Private room     35              15                  1   \n",
       "13540  -73.95468     Private room    179               1                  2   \n",
       "11745  -73.97187  Entire home/apt    139              30                  0   \n",
       "16897  -73.98607  Entire home/apt    169              10                  6   \n",
       "34660  -73.97827     Private room     75               4                  1   \n",
       "44706  -73.92421     Private room     88               8                  0   \n",
       "13761  -73.93465  Entire home/apt    120               2                  0   \n",
       "3637   -74.00528  Entire home/apt   1500               1                  0   \n",
       "\n",
       "       reviews_per_month  calculated_host_listings_count  availability_365  \n",
       "12095               0.25                               1                 0  \n",
       "9259                0.02                               1                 0  \n",
       "5733                0.03                               1                 0  \n",
       "13540               0.05                               5               309  \n",
       "11745               0.00                             121               360  \n",
       "16897               0.17                               1               280  \n",
       "34660               0.13                               1                82  \n",
       "44706               0.00                               2               363  \n",
       "13761               0.00                               1                 0  \n",
       "3637                0.00                               1                 0  "
      ]
     },
     "execution_count": 292,
     "metadata": {},
     "output_type": "execute_result"
    }
   ],
   "source": [
    "airbnb.sample(10)"
   ]
  },
  {
   "cell_type": "code",
   "execution_count": 293,
   "id": "27c0a3d7",
   "metadata": {
    "scrolled": true
   },
   "outputs": [
    {
     "data": {
      "text/plain": [
       "Williamsburg          3918\n",
       "Bedford-Stuyvesant    3713\n",
       "Harlem                2656\n",
       "Bushwick              2464\n",
       "Upper West Side       1971\n",
       "                      ... \n",
       "Richmondtown             1\n",
       "Willowbrook              1\n",
       "Fort Wadsworth           1\n",
       "Rossville                1\n",
       "New Dorp                 1\n",
       "Name: neighbourhood, Length: 221, dtype: int64"
      ]
     },
     "execution_count": 293,
     "metadata": {},
     "output_type": "execute_result"
    }
   ],
   "source": [
    "airbnb['neighbourhood'].value_counts()"
   ]
  },
  {
   "cell_type": "code",
   "execution_count": 294,
   "id": "3c845091",
   "metadata": {},
   "outputs": [
    {
     "data": {
      "text/plain": [
       "Entire home/apt    25400\n",
       "Private room       22322\n",
       "Shared room         1159\n",
       "Name: room_type, dtype: int64"
      ]
     },
     "execution_count": 294,
     "metadata": {},
     "output_type": "execute_result"
    }
   ],
   "source": [
    "airbnb['room_type'].value_counts()"
   ]
  },
  {
   "cell_type": "markdown",
   "id": "9e083ef8",
   "metadata": {},
   "source": [
    "## Analysis Tasks we will perform -\n",
    "\n",
    "1) Neighbourhood group vs number of listings\n",
    "\n",
    "2) Room type vs number of listings\n",
    "\n",
    "3) Room type vs price\n",
    "\n",
    "4) Neighbourhood group vs price\n",
    "\n",
    "5) Room type vs availability(days)\n",
    "\n",
    "6) host Id vs number of listings\n"
   ]
  },
  {
   "cell_type": "markdown",
   "id": "03703d20",
   "metadata": {},
   "source": [
    "### 1) Neighbourhood group vs no. of listings\n"
   ]
  },
  {
   "cell_type": "code",
   "execution_count": 305,
   "id": "4b4faabc",
   "metadata": {},
   "outputs": [
    {
     "data": {
      "image/png": "[encoded data removed]",
      "text/plain": [
       "<Figure size 864x432 with 1 Axes>"
      ]
     },
     "metadata": {
      "needs_background": "light"
     },
     "output_type": "display_data"
    }
   ],
   "source": [
    "neighbourhood = airbnb['neighbourhood_group'].value_counts().reset_index()\n",
    "neighbourhood.rename(columns={'index':'Neighbourhood','neighbourhood_group':'Number of Listings'},inplace=True)\n",
    "\n",
    "plt.figure(figsize=(12, 6));\n",
    "sns.barplot(neighbourhood['Neighbourhood'],neighbourhood['Number of Listings'],palette='mako');\n",
    "plt.title('Borough vs Number of Listings');\n"
   ]
  },
  {
   "cell_type": "markdown",
   "id": "f8974c5a",
   "metadata": {},
   "source": [
    "### Looks like Manhattan and Brooklyn tops in the number of Airbnb listings"
   ]
  },
  {
   "cell_type": "markdown",
   "id": "15844f81",
   "metadata": {},
   "source": [
    "Lets drill down and look at neighbourhood group number of listing for each room type"
   ]
  },
  {
   "cell_type": "code",
   "execution_count": 296,
   "id": "a40928f8",
   "metadata": {},
   "outputs": [
    {
     "data": {
      "text/html": [
       "<div>\n",
       "<style scoped>\n",
       "    .dataframe tbody tr th:only-of-type {\n",
       "        vertical-align: middle;\n",
       "    }\n",
       "\n",
       "    .dataframe tbody tr th {\n",
       "        vertical-align: top;\n",
       "    }\n",
       "\n",
       "    .dataframe thead th {\n",
       "        text-align: right;\n",
       "    }\n",
       "</style>\n",
       "<table border=\"1\" class=\"dataframe\">\n",
       "  <thead>\n",
       "    <tr style=\"text-align: right;\">\n",
       "      <th>room_type</th>\n",
       "      <th>Entire home/apt</th>\n",
       "      <th>Private room</th>\n",
       "      <th>Shared room</th>\n",
       "    </tr>\n",
       "    <tr>\n",
       "      <th>neighbourhood_group</th>\n",
       "      <th></th>\n",
       "      <th></th>\n",
       "      <th></th>\n",
       "    </tr>\n",
       "  </thead>\n",
       "  <tbody>\n",
       "    <tr>\n",
       "      <th>Bronx</th>\n",
       "      <td>379</td>\n",
       "      <td>652</td>\n",
       "      <td>60</td>\n",
       "    </tr>\n",
       "    <tr>\n",
       "      <th>Brooklyn</th>\n",
       "      <td>9557</td>\n",
       "      <td>10128</td>\n",
       "      <td>413</td>\n",
       "    </tr>\n",
       "    <tr>\n",
       "      <th>Manhattan</th>\n",
       "      <td>13194</td>\n",
       "      <td>7982</td>\n",
       "      <td>479</td>\n",
       "    </tr>\n",
       "    <tr>\n",
       "      <th>Queens</th>\n",
       "      <td>2094</td>\n",
       "      <td>3372</td>\n",
       "      <td>198</td>\n",
       "    </tr>\n",
       "    <tr>\n",
       "      <th>Staten Island</th>\n",
       "      <td>176</td>\n",
       "      <td>188</td>\n",
       "      <td>9</td>\n",
       "    </tr>\n",
       "  </tbody>\n",
       "</table>\n",
       "</div>"
      ],
      "text/plain": [
       "room_type            Entire home/apt  Private room  Shared room\n",
       "neighbourhood_group                                            \n",
       "Bronx                            379           652           60\n",
       "Brooklyn                        9557         10128          413\n",
       "Manhattan                      13194          7982          479\n",
       "Queens                          2094          3372          198\n",
       "Staten Island                    176           188            9"
      ]
     },
     "execution_count": 296,
     "metadata": {},
     "output_type": "execute_result"
    }
   ],
   "source": [
    "neighbourhood = airbnb.groupby(['neighbourhood_group','room_type'])['id'].count().reset_index()\n",
    "neighbourhood.rename(columns={'id':'Number of listings'},inplace=True)\n",
    "neighbourhood_group = neighbourhood.pivot(index='neighbourhood_group',columns='room_type',values='Number of listings')\n",
    "\n",
    "neighbourhood_group"
   ]
  },
  {
   "cell_type": "code",
   "execution_count": 306,
   "id": "690ba85a",
   "metadata": {},
   "outputs": [
    {
     "data": {
      "image/png": "[encoded data removed]",
      "text/plain": [
       "<Figure size 864x432 with 1 Axes>"
      ]
     },
     "metadata": {
      "needs_background": "light"
     },
     "output_type": "display_data"
    }
   ],
   "source": [
    "neighbourhood_group.plot(kind='bar',figsize=(12, 6),style=\"g\",alpha=0.7);\n",
    "plt.title('Borough vs Number of Listings');\n",
    "plt.ylabel('Number of Listings');"
   ]
  },
  {
   "cell_type": "markdown",
   "id": "3e6c911c",
   "metadata": {},
   "source": [
    "### As you can see in the above plot, Manhattan and Brooklyn has high number of Entire Home/Apt and Private room."
   ]
  },
  {
   "cell_type": "markdown",
   "id": "64c5448c",
   "metadata": {},
   "source": [
    "## 2) Room Type vs number of listings"
   ]
  },
  {
   "cell_type": "code",
   "execution_count": 307,
   "id": "df7a854e",
   "metadata": {},
   "outputs": [
    {
     "data": {
      "image/png": "[encoded data removed]",
      "text/plain": [
       "<Figure size 864x432 with 1 Axes>"
      ]
     },
     "metadata": {
      "needs_background": "light"
     },
     "output_type": "display_data"
    }
   ],
   "source": [
    "room_type = airbnb['room_type'].value_counts().reset_index()\n",
    "room_type\n",
    "room_type.rename(columns={'index':'Room Type','room_type':'Number of Listings'},inplace=True)\n",
    "\n",
    "plt.figure(figsize=(12, 6));\n",
    "sns.barplot(room_type['Room Type'],room_type['Number of Listings'],palette='crest');\n",
    "plt.title('Room Type vs Number of Listings');"
   ]
  },
  {
   "cell_type": "markdown",
   "id": "603e0e07",
   "metadata": {},
   "source": [
    "### Shared room has lowest number of listings than Entier home/apt and private rooms"
   ]
  },
  {
   "cell_type": "markdown",
   "id": "ad525c29",
   "metadata": {},
   "source": [
    "## 3) Room Type vs price"
   ]
  },
  {
   "cell_type": "code",
   "execution_count": 310,
   "id": "21095b42",
   "metadata": {
    "scrolled": false
   },
   "outputs": [
    {
     "data": {
      "image/png": "[encoded data removed]",
      "text/plain": [
       "<Figure size 864x432 with 1 Axes>"
      ]
     },
     "metadata": {
      "needs_background": "light"
     },
     "output_type": "display_data"
    }
   ],
   "source": [
    "plt.figure(figsize=(12, 6));\n",
    "sns.stripplot(x=\"room_type\",y=\"price\",data=airbnb,palette='Set1');\n",
    "plt.title('Room Type vs price');"
   ]
  },
  {
   "cell_type": "markdown",
   "id": "c668ec25",
   "metadata": {},
   "source": [
    "## 4) Neighbourhood group vs price"
   ]
  },
  {
   "cell_type": "code",
   "execution_count": 312,
   "id": "61c95e0d",
   "metadata": {
    "scrolled": false
   },
   "outputs": [
    {
     "data": {
      "image/png": "[encoded data removed]",
      "text/plain": [
       "<Figure size 864x432 with 1 Axes>"
      ]
     },
     "metadata": {
      "needs_background": "light"
     },
     "output_type": "display_data"
    }
   ],
   "source": [
    "plt.figure(figsize=(12, 6));\n",
    "sns.stripplot(x=\"neighbourhood_group\",y=\"price\",data=airbnb,palette='rocket');\n",
    "plt.title('Borough vs Price');"
   ]
  },
  {
   "cell_type": "markdown",
   "id": "6bca792c",
   "metadata": {},
   "source": [
    "### Clearly brooklyn and Manhattan are high priced neighbourhood in terms of Airbnb listing"
   ]
  },
  {
   "cell_type": "markdown",
   "id": "62750076",
   "metadata": {},
   "source": [
    "## 5) Room Type vs Availability (days)"
   ]
  },
  {
   "cell_type": "code",
   "execution_count": 313,
   "id": "bf3048f7",
   "metadata": {},
   "outputs": [
    {
     "data": {
      "image/png": "[encoded data removed]",
      "text/plain": [
       "<Figure size 864x432 with 1 Axes>"
      ]
     },
     "metadata": {
      "needs_background": "light"
     },
     "output_type": "display_data"
    }
   ],
   "source": [
    "availability = airbnb.loc[airbnb['availability_365'] == 0]['room_type'].value_counts().reset_index()\n",
    "availability.rename(columns={'index':'Room Type','room_type':'Availability (days)'},inplace=True)\n",
    "\n",
    "plt.figure(figsize=(12, 6));\n",
    "sns.barplot(availability['Room Type'],availability['Availability (days)'],palette='viridis');\n",
    "plt.title('Room Type vs Availability (days)');\n"
   ]
  },
  {
   "cell_type": "markdown",
   "id": "469aad5c",
   "metadata": {},
   "source": [
    "### As you can see Entire Home/apt and private rooms are booked most of the time"
   ]
  },
  {
   "cell_type": "markdown",
   "id": "44f03b38",
   "metadata": {},
   "source": [
    "## 6) host_id vs number of listings\n"
   ]
  },
  {
   "cell_type": "code",
   "execution_count": 317,
   "id": "d0adc4a3",
   "metadata": {},
   "outputs": [
    {
     "data": {
      "image/png": "[encoded data removed]",
      "text/plain": [
       "<Figure size 864x432 with 1 Axes>"
      ]
     },
     "metadata": {
      "needs_background": "light"
     },
     "output_type": "display_data"
    }
   ],
   "source": [
    "hosts = airbnb.groupby(['host_id'])['id'].count().sort_values(ascending=False).reset_index().head(10)\n",
    "hosts.rename(columns={'id':'Number of listings'},inplace=True)\n",
    "\n",
    "plt.figure(figsize=(12, 6));\n",
    "sns.barplot(hosts['host_id'],hosts['Number of listings'],palette='rocket_r');\n",
    "plt.title('Top 10 Hosts per number of listings');\n",
    "plt.xticks(rotation=70);\n"
   ]
  },
  {
   "cell_type": "markdown",
   "id": "59df1193",
   "metadata": {},
   "source": [
    "## Lets analyze the shared rooms which have low listing numbers "
   ]
  },
  {
   "cell_type": "code",
   "execution_count": 318,
   "id": "8555f61a",
   "metadata": {},
   "outputs": [
    {
     "data": {
      "image/png": "[encoded data removed]",
      "text/plain": [
       "<Figure size 864x432 with 1 Axes>"
      ]
     },
     "metadata": {
      "needs_background": "light"
     },
     "output_type": "display_data"
    }
   ],
   "source": [
    "prices = airbnb.loc[(airbnb['room_type'] == 'Shared room') & (airbnb['availability_365'] == 365)]['price'].reset_index()\n",
    "\n",
    "plt.figure(figsize=(12, 6));\n",
    "sns.histplot(data=prices,x='price',binwidth=50,element=\"poly\",color=\"gray\",alpha=0.2);\n",
    "plt.title('Price Distribution for Shared rooms with 365 days availability');"
   ]
  },
  {
   "cell_type": "markdown",
   "id": "a8941178",
   "metadata": {},
   "source": [
    "## Here we can see, even if prices are low the listing of room type shared room are not rented. Need to look on these listings, if there any issues with the listing"
   ]
  },
  {
   "cell_type": "code",
   "execution_count": null,
   "id": "fcc4c7ce",
   "metadata": {},
   "outputs": [],
   "source": []
  }
 ],
 "metadata": {
  "kernelspec": {
   "display_name": "Python 3",
   "language": "python",
   "name": "python3"
  },
  "language_info": {
   "codemirror_mode": {
    "name": "ipython",
    "version": 3
   },
   "file_extension": ".py",
   "mimetype": "text/x-python",
   "name": "python",
   "nbconvert_exporter": "python",
   "pygments_lexer": "ipython3",
   "version": "3.9.1"
  }
 },
 "nbformat": 4,
 "nbformat_minor": 5
}
